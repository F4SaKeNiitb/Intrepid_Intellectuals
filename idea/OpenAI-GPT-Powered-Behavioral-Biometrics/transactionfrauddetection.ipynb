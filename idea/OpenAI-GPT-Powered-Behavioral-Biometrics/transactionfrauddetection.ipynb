{
  "cells": [
    {
      "cell_type": "markdown",
      "metadata": {
        "id": "view-in-github",
        "colab_type": "text"
      },
      "source": [
        "<a href=\"https://colab.research.google.com/gist/JetBelson/7b6bb283779dbe358ccf40b2a368b150/transactionfrauddetection.ipynb\" target=\"_parent\"><img src=\"https://colab.research.google.com/assets/colab-badge.svg\" alt=\"Open In Colab\"/></a>"
      ]
    },
    {
      "cell_type": "markdown",
      "metadata": {
        "id": "VUSjhMtLeHWn"
      },
      "source": [
        "<body style=\"background-color:black;\">\n",
        "\n",
        "<H1 style=\"color:#00B271\" size=80 align=\"center\"> Transaction Fraud Detection with Knowledge Graph </H1>\n",
        "\n",
        "\n",
        "Created by [Jet ZHENG](https:www.jetzheng.com)\n",
        "\n",
        "Disclaimer - This project provides information and discussion about the procedures on transaction fraud detection. All contents provided in this project, and in any linked mateirals, are intended for learning purpose only. Any users should comply with all barckgroud IP involved in this project.  \n",
        "\n",
        "Acknowledgement: This projects was adapted from [Neo4J](https://neo4j.com/)."
      ]
    },
    {
      "cell_type": "markdown",
      "metadata": {
        "id": "ddKa-LSoeHWr"
      },
      "source": [
        "# Package"
      ]
    },
    {
      "cell_type": "code",
      "execution_count": null,
      "metadata": {
        "id": "CAFJRspCeHWs"
      },
      "outputs": [],
      "source": [
        "from neo4j import GraphDatabase, basic_auth\n",
        "\n",
        "import pandas as pd\n"
      ]
    },
    {
      "cell_type": "code",
      "execution_count": null,
      "metadata": {
        "id": "wp9-q2yteHWt"
      },
      "outputs": [],
      "source": [
        "URI =  \"bolt://localhost:11007\"\n",
        "AUTH = basic_auth(\"neo4j\", \"zzj\")\n",
        "\n",
        "\n",
        "\n",
        "driver = GraphDatabase.driver(\n",
        "    uri=URI,\n",
        "    auth=AUTH,\n",
        "    max_connection_lifetime=30 * 60,\n",
        "    max_connection_pool_size=50,\n",
        "    connection_acquisition_timeout=2 * 60)\n",
        "\n",
        "\n",
        "def neo4j_data_print(res):\n",
        "    print(\"\")\n",
        "    data = []\n",
        "    for ri in res:\n",
        "        data.append(ri.values())\n",
        "    df = pd.DataFrame(columns=res[0].keys(), data=data)\n",
        "    print(df)"
      ]
    },
    {
      "cell_type": "markdown",
      "metadata": {
        "id": "td9_TQQJeHWu"
      },
      "source": [
        "# Tabale of Contents\n"
      ]
    },
    {
      "cell_type": "markdown",
      "metadata": {
        "id": "mxpqgwKLeHWu"
      },
      "source": [
        "* Backgourd  \n",
        "\n",
        "* Data Exploration  \n",
        "\n",
        "* First-party Fraud Detection  \n",
        "\n",
        "* Second-party Fraud (Money Mules)"
      ]
    },
    {
      "cell_type": "markdown",
      "metadata": {
        "id": "7GkgMRgGeHWv"
      },
      "source": [
        "# Backgroud\n"
      ]
    },
    {
      "cell_type": "markdown",
      "metadata": {
        "id": "DN6icyxFeHWw"
      },
      "source": [
        "## 1.1 Problem Definition  \n",
        "\n",
        "#### What is Fraud?\n",
        "Fraud occurs when an individual or group of individuals, or a business entity intentionally deceives another individual or business entity with misrepresentation of identity, products, services, or financial transactions and/or false promises with no intention of fulfilling them.\n",
        "\n",
        "#### Fraud Categories\n",
        "* First-party Fraud\n",
        "\n",
        "An individual, or group of individuals, misrepresent their identity or give false information when applying for a product or services to receive more favourable rates or when have no intention of repayment.\n",
        "\n",
        "* Second-party Fraud\n",
        "\n",
        "An individual knowingly gives their identity or personal information to another individual to commit fraud or someone is perpetrating fraud in his behalf.\n",
        "\n",
        "* Third-party Fraud\n",
        "\n",
        "An individual, or a group of individuals, create or use another person’s identity, or personal details, to open or takeover an account.  \n",
        "\n",
        "\n",
        "## 1.2 Aim\n",
        "This project aims to detect and label two types of fraudsters: (1)first-party fraudster and (2) money mules by using machine learning with knowledge graph. "
      ]
    },
    {
      "cell_type": "markdown",
      "metadata": {
        "id": "dwXQzAJ_eHWx"
      },
      "source": [
        "# Data Exploration"
      ]
    },
    {
      "cell_type": "markdown",
      "metadata": {
        "id": "WZmYmgzjeHWy"
      },
      "source": [
        "This project uses a dataset generated from PaySim developed by [Lopez-Rojas, Elmire, and Axelsson](https://www.researchgate.net/publication/313138956_PAYSIM_A_FINANCIAL_MOBILE_MONEY_SIMULATOR_FOR_FRAUD_DETECTION) and modified by [Dave Voutila](https://github.com/voutilad/paysim).  \n",
        "PaySim is a financial simulator that simulates mobile money transactions, which was developed with agent-based simulation technqiues and mathematical statistics on a anoymous real-life dataset.  "
      ]
    },
    {
      "cell_type": "code",
      "execution_count": null,
      "metadata": {
        "id": "gkb2FTGAeHWy",
        "outputId": "84d2767b-0b2c-4301-d8c7-c2ab87291b22"
      },
      "outputs": [
        {
          "data": {
            "text/html": [
              "<div>\n",
              "<style scoped>\n",
              "    .dataframe tbody tr th:only-of-type {\n",
              "        vertical-align: middle;\n",
              "    }\n",
              "\n",
              "    .dataframe tbody tr th {\n",
              "        vertical-align: top;\n",
              "    }\n",
              "\n",
              "    .dataframe thead th {\n",
              "        text-align: right;\n",
              "    }\n",
              "</style>\n",
              "<table border=\"1\" class=\"dataframe\">\n",
              "  <thead>\n",
              "    <tr style=\"text-align: right;\">\n",
              "      <th></th>\n",
              "      <th>Unnamed: 0</th>\n",
              "      <th>step</th>\n",
              "      <th>type</th>\n",
              "      <th>amount</th>\n",
              "      <th>nameOrig</th>\n",
              "      <th>oldbalanceOrg</th>\n",
              "      <th>newbalanceOrig</th>\n",
              "      <th>nameDest</th>\n",
              "      <th>oldbalanceDest</th>\n",
              "      <th>newbalanceDest</th>\n",
              "      <th>isFraud</th>\n",
              "      <th>isFlaggedFraud</th>\n",
              "    </tr>\n",
              "  </thead>\n",
              "  <tbody>\n",
              "    <tr>\n",
              "      <th>0</th>\n",
              "      <td>0</td>\n",
              "      <td>1</td>\n",
              "      <td>PAYMENT</td>\n",
              "      <td>9839.64</td>\n",
              "      <td>C1231006815</td>\n",
              "      <td>170136.0</td>\n",
              "      <td>160296.36</td>\n",
              "      <td>M1979787155</td>\n",
              "      <td>0.0</td>\n",
              "      <td>0.0</td>\n",
              "      <td>0</td>\n",
              "      <td>0</td>\n",
              "    </tr>\n",
              "    <tr>\n",
              "      <th>1</th>\n",
              "      <td>1</td>\n",
              "      <td>1</td>\n",
              "      <td>PAYMENT</td>\n",
              "      <td>1864.28</td>\n",
              "      <td>C1666544295</td>\n",
              "      <td>21249.0</td>\n",
              "      <td>19384.72</td>\n",
              "      <td>M2044282225</td>\n",
              "      <td>0.0</td>\n",
              "      <td>0.0</td>\n",
              "      <td>0</td>\n",
              "      <td>0</td>\n",
              "    </tr>\n",
              "    <tr>\n",
              "      <th>2</th>\n",
              "      <td>2</td>\n",
              "      <td>1</td>\n",
              "      <td>TRANSFER</td>\n",
              "      <td>181.00</td>\n",
              "      <td>C1305486145</td>\n",
              "      <td>181.0</td>\n",
              "      <td>0.00</td>\n",
              "      <td>C553264065</td>\n",
              "      <td>0.0</td>\n",
              "      <td>0.0</td>\n",
              "      <td>1</td>\n",
              "      <td>0</td>\n",
              "    </tr>\n",
              "    <tr>\n",
              "      <th>3</th>\n",
              "      <td>3</td>\n",
              "      <td>1</td>\n",
              "      <td>CASH_OUT</td>\n",
              "      <td>181.00</td>\n",
              "      <td>C840083671</td>\n",
              "      <td>181.0</td>\n",
              "      <td>0.00</td>\n",
              "      <td>C38997010</td>\n",
              "      <td>21182.0</td>\n",
              "      <td>0.0</td>\n",
              "      <td>1</td>\n",
              "      <td>0</td>\n",
              "    </tr>\n",
              "    <tr>\n",
              "      <th>4</th>\n",
              "      <td>4</td>\n",
              "      <td>1</td>\n",
              "      <td>PAYMENT</td>\n",
              "      <td>11668.14</td>\n",
              "      <td>C2048537720</td>\n",
              "      <td>41554.0</td>\n",
              "      <td>29885.86</td>\n",
              "      <td>M1230701703</td>\n",
              "      <td>0.0</td>\n",
              "      <td>0.0</td>\n",
              "      <td>0</td>\n",
              "      <td>0</td>\n",
              "    </tr>\n",
              "  </tbody>\n",
              "</table>\n",
              "</div>"
            ],
            "text/plain": [
              "   Unnamed: 0  step      type    amount     nameOrig  oldbalanceOrg  \\\n",
              "0           0     1   PAYMENT   9839.64  C1231006815       170136.0   \n",
              "1           1     1   PAYMENT   1864.28  C1666544295        21249.0   \n",
              "2           2     1  TRANSFER    181.00  C1305486145          181.0   \n",
              "3           3     1  CASH_OUT    181.00   C840083671          181.0   \n",
              "4           4     1   PAYMENT  11668.14  C2048537720        41554.0   \n",
              "\n",
              "   newbalanceOrig     nameDest  oldbalanceDest  newbalanceDest  isFraud  \\\n",
              "0       160296.36  M1979787155             0.0             0.0        0   \n",
              "1        19384.72  M2044282225             0.0             0.0        0   \n",
              "2            0.00   C553264065             0.0             0.0        1   \n",
              "3            0.00    C38997010         21182.0             0.0        1   \n",
              "4        29885.86  M1230701703             0.0             0.0        0   \n",
              "\n",
              "   isFlaggedFraud  \n",
              "0               0  \n",
              "1               0  \n",
              "2               0  \n",
              "3               0  \n",
              "4               0  "
            ]
          },
          "execution_count": 37,
          "metadata": {},
          "output_type": "execute_result"
        }
      ],
      "source": [
        "# Origial data samples generated with PaySim developed by Lopez-Rojas, Elmire, \n",
        "# and Axelsson\n",
        "df =pd.read_csv('data/paysim_sample.csv')\n",
        "df.head()"
      ]
    },
    {
      "cell_type": "markdown",
      "metadata": {
        "id": "-DFpToQgeHWz"
      },
      "source": [
        "#### 2.1 Basic information extracted from origianl PaySim.  \n",
        "\n",
        "**Agent** type:\n",
        "* **Clitent:** model the end users in the mobile money network, effectively mapping to unique accounts that, in theory, are controlled by real people. \n",
        "* **Merchants:** model the vendors or businesses that participate in the network through interactions with Clients.\n",
        "* **Banks:** act only as a target for Debit transactions.  \n",
        "\n",
        "**Transaction** types:\n",
        "* **CASH-IN** is the process of increasing the balance of account by paying in cash to a merchant.\n",
        "* **CASH-OUT** means to withdraw cash from a merchant which decreases the balance of the account\n",
        "* **DEBIT** is similar process than CASH-OUT and involves sending the money from the mobile money service to a bank account\n",
        "* **PAYMENT** is the process of paying for goods or services to merchants which decreases the balance of the account and increases the balance of the receiver.\n",
        "* **TRANSFER** is the process of sending money to another user of the service through the mobile money platform.  \n",
        "  \n",
        "Graphical representation of the original PaySim data model  \n",
        "<div><img src=\"https://github.com/JetBelson/images/blob/main/transaction_fraud_detection_imgs/simplified-data-model.png?raw=true\" width=\"850\"/></div>\n",
        "  \n",
        "  \n",
        "  \n",
        "#### 2.2 Improving PaySim\n",
        "* improving ergnomics and usability of PaySim, allowing us to enhance it and add new features\n",
        "* expanding upon the modeling of Fraudsters, incorporating the two common types of fraudsters: 1st and 3rd party\n",
        "\n",
        "Graphical representation of the improved PaySim data model  \n",
        "\n",
        "<div><img src=\"https://github.com/JetBelson/images/blob/main/transaction_fraud_detection_imgs/paysim-2.1.0-part1.png?raw=true\" width=\"850\"/></div>\n",
        "\n",
        "\n",
        "The whole neo4j data schema is visualizd ad below. And the neo4j database used in this project can be downloaded from [Github](https://github.com/neo4j-graph-examples/fraud-detection/tree/main/data).  \n",
        "<div><img src=\"https://github.com/JetBelson/images/blob/main/transaction_fraud_detection_imgs/neo4j-schema-visualizaiton.png?raw=true\" width=\"850\"/></div>\n"
      ]
    },
    {
      "cell_type": "markdown",
      "metadata": {
        "id": "cgb-2QX0eHW0"
      },
      "source": [
        "## \n"
      ]
    },
    {
      "cell_type": "code",
      "execution_count": null,
      "metadata": {
        "id": "Css6pWmZeHW0",
        "outputId": "75210b16-d23a-4f5f-d4c3-6a6f0b70ede1"
      },
      "outputs": [
        {
          "name": "stdout",
          "output_type": "stream",
          "text": [
            "\n",
            "   labelCount  relTypeCount  propertyKeyCount  nodeCount  relCount\n",
            "0          13             9                11     332973    980857\n"
          ]
        }
      ],
      "source": [
        "# Check dataset statistic information\n",
        "with driver.session() as sesssion:\n",
        "    res = sesssion.execute_read(lambda tx: tx.run(\"\"\"\n",
        "            CALL apoc.meta.stats()\n",
        "            YIELD labelCount,relTypeCount,propertyKeyCount,nodeCount,relCount\n",
        "            RETURN labelCount,relTypeCount,propertyKeyCount,nodeCount,relCount\n",
        "            \"\"\"\n",
        "        ).data()\n",
        "    )\n",
        "    neo4j_data_print(res)\n"
      ]
    },
    {
      "cell_type": "code",
      "execution_count": null,
      "metadata": {
        "id": "FUvLjV1IeHW1",
        "outputId": "2251229a-251f-438f-a439-c2069e9f6fd2"
      },
      "outputs": [
        {
          "name": "stdout",
          "output_type": "stream",
          "text": [
            "\n",
            "          Label   Count\n",
            "0        Client    2433\n",
            "1          Bank       3\n",
            "2      Merchant     347\n",
            "3          Mule     433\n",
            "4        CashIn  149037\n",
            "5       CashOut   76023\n",
            "6         Debit    4392\n",
            "7       Payment   74577\n",
            "8      Transfer   19460\n",
            "9   Transaction  323489\n",
            "10        Email    2229\n",
            "11          SSN    2238\n",
            "12        Phone    2234\n",
            "\n",
            "\n",
            "         Relationship   Count\n",
            "0           PERFORMED  323489\n",
            "1                  TO  323489\n",
            "2             HAS_SSN    2433\n",
            "3           HAS_EMAIL    2433\n",
            "4           HAS_PHONE    2433\n",
            "5            FIRST_TX    2332\n",
            "6             LAST_TX    2332\n",
            "7                NEXT  321157\n",
            "8  SHARED_IDENTIFIERS     759\n",
            "\n",
            "\n",
            "     txType  NumberOfTransactions  %Transactions\n",
            "0    CashIn                149037          46.07\n",
            "1   CashOut                 76023          23.50\n",
            "2   Payment                 74577          23.05\n",
            "3  Transfer                 19460           6.02\n",
            "4     Debit                  4392           1.36\n"
          ]
        }
      ],
      "source": [
        "# List dnode labels\n",
        "with driver.session() as sesssion:\n",
        "    res = sesssion.execute_read(\n",
        "        lambda tx: tx.run(\n",
        "            \"\"\"\n",
        "            CALL db.labels() YIELD label\n",
        "            CALL apoc.cypher.run('MATCH (:`'+label+'`) RETURN count(*) as count', {})\n",
        "            YIELD value\n",
        "            RETURN label as Label, value.count AS Count\n",
        "            \"\"\"\n",
        "        ).data()\n",
        "    )\n",
        "    neo4j_data_print(res)\n",
        "\n",
        "\n",
        "# List relationship types\n",
        "with driver.session() as sesssion:\n",
        "    res = sesssion.execute_read(\n",
        "        lambda tx: tx.run(\n",
        "            \"\"\"\n",
        "            CALL db.relationshipTypes() YIELD relationshipType as type\n",
        "            CALL apoc.cypher.run('MATCH ()-[:`'+type+'`]->() RETURN count(*) as count', {})\n",
        "            YIELD value\n",
        "            RETURN type AS Relationship, value.count AS Count\n",
        "            \"\"\"\n",
        "        ).data()\n",
        "    )\n",
        "    print(\"\")\n",
        "    neo4j_data_print(res)\n",
        "\n",
        "\n",
        "# List transaction types\n",
        "with driver.session() as sesssion:\n",
        "    res = sesssion.execute_read(\n",
        "        lambda tx: tx.run(\n",
        "            \"\"\"\n",
        "            MATCH (t:Transaction)\n",
        "            WITH count(t) AS globalCnt\n",
        "            UNWIND ['CashIn', 'CashOut', 'Payment', 'Debit', 'Transfer'] AS txType\n",
        "            CALL apoc.cypher.run('MATCH (t:' + txType + ')\n",
        "                RETURN count(t) AS txCnt', {})\n",
        "            YIELD value\n",
        "            RETURN txType, value.txCnt AS NumberOfTransactions,\n",
        "            round(toFloat(value.txCnt)/toFloat(globalCnt)*100, 2) AS `%Transactions`\n",
        "            ORDER BY `%Transactions` DESC;\n",
        "            \"\"\"\n",
        "        ).data()\n",
        "    )\n",
        "    print(\"\")\n",
        "    neo4j_data_print(res)\n",
        "\n",
        "\n"
      ]
    },
    {
      "cell_type": "markdown",
      "metadata": {
        "id": "q5ZfGQ2veHW2"
      },
      "source": [
        "# First-party Fraud Detection"
      ]
    },
    {
      "cell_type": "markdown",
      "metadata": {
        "id": "QaPEXHNReHW2"
      },
      "source": [
        "Synthetic identity fraud and first party fraud can be identified by performing entity link analysis to detect identities linked to other identities via shared PII.\n",
        "\n",
        "There are three types of **personally identifiable information (PII)** in this dataset - SSN, Email and Phone Number\n",
        "\n",
        "\n",
        "<font color=#00B271 > Our hypothesis is that clients who share identifiers are suspicious and have a higher potential to commit fraud. However, all shared identifier links are not suspicious, for example, two people sharing an email address. Hence, we compute a fraud score based on shared PII relationships and label the top X percentile clients as fraudsters.</font>\n",
        "\n",
        "We will first identify clients that share identifiers and create a new relationship between clients that share identifiers"
      ]
    },
    {
      "cell_type": "code",
      "execution_count": null,
      "metadata": {
        "id": "2fLxEDjoeHW2",
        "outputId": "faeb0616-a06b-4925-a37e-59f61edffe3a"
      },
      "outputs": [
        {
          "name": "stdout",
          "output_type": "stream",
          "text": [
            "clients:\n",
            "\n",
            "                c1.id             c2.id  freq\n",
            "0    4952527271473904  4816336012071985     3\n",
            "1    4883445100935916  4708373581412325     3\n",
            "2    4658150168863397  4100374538108184     3\n",
            "3    4673951123644611  4795773320377768     3\n",
            "4    4192214340630620  4912097363222923     3\n",
            "..                ...               ...   ...\n",
            "754  4910140986334626  4114683318919154     1\n",
            "755  4454780847105236  4210575070378533     1\n",
            "756  4721862020593706  4210575070378533     1\n",
            "757  4445521165797820  4210575070378533     1\n",
            "758  4884394011157286  4210575070378533     1\n",
            "\n",
            "[759 rows x 3 columns]\n",
            "unique clients:\n",
            "\n",
            "   freq\n",
            "0   336\n"
          ]
        }
      ],
      "source": [
        "# Identify clients sharing PII\n",
        "with driver.session() as sesssion:\n",
        "    res = sesssion.execute_read(\n",
        "        lambda tx: tx.run(\n",
        "            \"\"\"\n",
        "            MATCH (c1:Client)-[:HAS_EMAIL|:HAS_PHONE|:HAS_SSN]->(n) <-[:HAS_EMAIL|:HAS_PHONE|:HAS_SSN]-(c2:Client)\n",
        "            WHERE id(c1) < id(c2)\n",
        "            RETURN c1.id, c2.id, count(*) AS freq\n",
        "            ORDER BY freq DESC;\n",
        "            \"\"\"\n",
        "        ).data()\n",
        "    )\n",
        "    print('clients:')\n",
        "    neo4j_data_print(res)\n",
        "\n",
        "\n",
        "# Number of unique clients sharing PII\n",
        "with driver.session() as sesssion:\n",
        "    res = sesssion.execute_read(\n",
        "        lambda tx: tx.run(\n",
        "            \"\"\"\n",
        "            MATCH (c1:Client)-[:HAS_EMAIL|:HAS_PHONE|:HAS_SSN]->(n) <-[:HAS_EMAIL|:HAS_PHONE|:HAS_SSN]-(c2:Client)\n",
        "            WHERE id(c1) <> id(c2)\n",
        "            RETURN count(DISTINCT c1.id) AS freq;\n",
        "            \"\"\"\n",
        "        ).data()\n",
        "    )\n",
        "    print('unique clients:')\n",
        "    neo4j_data_print(res)\n"
      ]
    },
    {
      "cell_type": "code",
      "execution_count": null,
      "metadata": {
        "id": "ZJgEIuwseHW3"
      },
      "outputs": [],
      "source": [
        "# Create a new relationship to connect clients that share identifiers and add \n",
        "# the number of shared identifiers as a property on that relationship\n",
        "with driver.session() as sesssion:\n",
        "    res = sesssion.execute_write(\n",
        "        lambda tx: tx.run(\n",
        "            \"\"\"\n",
        "            MATCH (c1:Client)-[:HAS_EMAIL|:HAS_PHONE|:HAS_SSN] ->(n)<- [:HAS_EMAIL|:HAS_PHONE|:HAS_SSN]-(c2:Client)\n",
        "            WHERE id(c1) < id(c2)\n",
        "            WITH c1, c2, count(*) as cnt\n",
        "            MERGE (c1) - [:SHARED_IDENTIFIERS {count: cnt}] -> (c2);\n",
        "            \"\"\"\n",
        "        ).data()\n",
        "    )\n",
        "\n",
        "with driver.session() as sesssion:\n",
        "    res = sesssion.execute_read(\n",
        "        lambda tx: tx.run(\n",
        "            \"\"\"\n",
        "            MATCH p = (:Client) - [s:SHARED_IDENTIFIERS] -> (:Client) WHERE s.count >= 2 RETURN p limit 25;\n",
        "            \"\"\"\n",
        "        ).data()\n",
        "    )"
      ]
    },
    {
      "cell_type": "markdown",
      "metadata": {
        "id": "D1U4uUsReHW3"
      },
      "source": [
        "<div><img src=\"https://github.com/JetBelson/images/blob/main/transaction_fraud_detection_imgs/neo4j-share-pii.png?raw=true\" width=\"1500\"/></div>\n"
      ]
    },
    {
      "cell_type": "markdown",
      "metadata": {
        "id": "wGkwigQAeHW3"
      },
      "source": [
        "We will construct a workflow with graph algorithms to detect fraud rings, score clients based on the number of common connections and rank them to select the top few suspicious clients and label them as fraudsters.\n",
        "\n",
        "* Identify clusters of clients sharing PII using a community detection algorithm (Weakly Connected Components)\n",
        "\n",
        "* Find similar clients within the clusters using pairwise similarity algorithms (Node Similarity)\n",
        "\n",
        "* Calculate and assign fraud score to clients using centrality algorithms (Degree Centrality) and\n",
        "\n",
        "* Use computed fraud scores to label clients as potential fraudsters"
      ]
    },
    {
      "cell_type": "code",
      "execution_count": null,
      "metadata": {
        "id": "NB7T-wu3eHW4"
      },
      "outputs": [],
      "source": [
        "# Project graph to memory for computing\n",
        "with driver.session() as sesssion:\n",
        "    res = sesssion.execute_read(\n",
        "        lambda tx: tx.run(\n",
        "            \"\"\"\n",
        "            CALL gds.graph.project(\n",
        "                'wcc',\n",
        "                {\n",
        "                    Client: {\n",
        "                        label: 'Client'\n",
        "                    }\n",
        "                },\n",
        "                {\n",
        "                    SHARED_IDENTIFIERS:{\n",
        "                        type: 'SHARED_IDENTIFIERS',\n",
        "                        orientation: 'UNDIRECTED',\n",
        "                        properties: {\n",
        "                            count: {\n",
        "                                property: 'count'\n",
        "                            }\n",
        "                        }\n",
        "                    }\n",
        "                }\n",
        "            ) YIELD graphName,nodeCount,relationshipCount,projectMillis;\n",
        "            \"\"\"\n",
        "        )\n",
        "    )\n"
      ]
    },
    {
      "cell_type": "markdown",
      "metadata": {
        "id": "Vxd2OtofeHW4"
      },
      "source": [
        "#### 3.1 Cluster identification with weekly connected component"
      ]
    },
    {
      "cell_type": "markdown",
      "metadata": {
        "id": "oA1Z-GO0eHW4"
      },
      "source": [
        "**Weakly Connected Components (WCC)** is used to find groups of connected nodes, where all nodes in the same set form a connected component. WCC is often used early in an analysis understand the structure of a graph."
      ]
    },
    {
      "cell_type": "code",
      "execution_count": null,
      "metadata": {
        "id": "4MmjlxgYeHW4",
        "outputId": "001fe25e-fd7d-4e4a-a3a7-003d46ddb498"
      },
      "outputs": [
        {
          "name": "stdout",
          "output_type": "stream",
          "text": [
            "\n",
            "            clientId  componentId\n",
            "0   4997933060327094            0\n",
            "1   4776276949898423            1\n",
            "2   4858607188760216            2\n",
            "3   4287186486553145            3\n",
            "4   4661202154682409            4\n",
            "5   4649268238636650            5\n",
            "6   4426707672690219            6\n",
            "7   4922246870240518            7\n",
            "8   4415848797892554            8\n",
            "9   4548497513788330            9\n",
            "10  4950634022082174           10\n",
            "11  4860903977910377           11\n",
            "12  4234798486577769           12\n",
            "13  4175792657809755           13\n",
            "14  4361287590543243           14\n",
            "15  4833833649287561           15\n",
            "16  4495151043368906           16\n",
            "17  4028666746330768           17\n",
            "18  4664274185403862           18\n",
            "19  4699974121949998           19\n"
          ]
        }
      ],
      "source": [
        "# Run weakly connected components to find clusters of clients sharing PII.\n",
        "with driver.session() as sesssion:\n",
        "    res = sesssion.execute_read(\n",
        "        lambda tx: tx.run(\n",
        "            \"\"\"\n",
        "            CALL gds.wcc.stream(\n",
        "                'wcc',\n",
        "                {\n",
        "                    nodeLabels: ['Client'],\n",
        "                    relationshipTypes: ['SHARED_IDENTIFIERS'],\n",
        "                    consecutiveIds: true\n",
        "                }\n",
        "            )\n",
        "            YIELD nodeId, componentId\n",
        "            RETURN gds.util.asNode(nodeId).id AS clientId, componentId\n",
        "            ORDER BY componentId LIMIT 20\n",
        "            \"\"\"\n",
        "        ).data()\n",
        "    )\n",
        "\n",
        "    neo4j_data_print(res)"
      ]
    },
    {
      "cell_type": "code",
      "execution_count": null,
      "metadata": {
        "id": "PUwmls-ZeHW5"
      },
      "outputs": [],
      "source": [
        "# write results to the database\n",
        "with driver.session() as sesssion:\n",
        "    res = sesssion.execute_write(\n",
        "        lambda tx: tx.run(\n",
        "            \"\"\"\n",
        "            CALL gds.wcc.stream('wcc',\n",
        "                {\n",
        "                    nodeLabels: ['Client'],\n",
        "                    relationshipTypes: ['SHARED_IDENTIFIERS'],\n",
        "                    consecutiveIds: true\n",
        "                }\n",
        "            )\n",
        "            YIELD componentId, nodeId\n",
        "            WITH componentId AS cluster, gds.util.asNode(nodeId) AS client\n",
        "            WITH cluster, collect(client.id) AS clients\n",
        "            WITH cluster, clients, size(clients) AS clusterSize WHERE clusterSize > 1\n",
        "            UNWIND clients AS client\n",
        "            MATCH (c:Client) WHERE c.id = client\n",
        "            SET c.firstPartyFraudGroup=cluster;\n",
        "            \"\"\"\n",
        "        ).data()\n",
        "    )\n",
        "\n",
        "\n"
      ]
    },
    {
      "cell_type": "code",
      "execution_count": null,
      "metadata": {
        "id": "MPBVxwcteHW5",
        "outputId": "3778beac-e7a4-4c43-a561-5ede191e3d74"
      },
      "outputs": [
        {
          "name": "stdout",
          "output_type": "stream",
          "text": [
            "\n",
            "                                                     p\n",
            "0    [{'firstPartyFraudScore': 1.4, 'firstPartyFrau...\n",
            "1    [{'firstPartyFraudScore': 1.4, 'firstPartyFrau...\n",
            "2    [{'firstPartyFraudScore': 1.4, 'firstPartyFrau...\n",
            "3    [{'firstPartyFraudScore': 1.6, 'firstPartyFrau...\n",
            "4    [{'firstPartyFraudScore': 1.6, 'firstPartyFrau...\n",
            "..                                                 ...\n",
            "292  [{'firstPartyFraudScore': 2.1999999999999997, ...\n",
            "293  [{'firstPartyFraudScore': 2.1999999999999997, ...\n",
            "294  [{'firstPartyFraudScore': 2.6000000000000005, ...\n",
            "295  [{'firstPartyFraudScore': 2.6000000000000005, ...\n",
            "296  [{'firstPartyFraudScore': 2.6000000000000005, ...\n",
            "\n",
            "[297 rows x 1 columns]\n"
          ]
        }
      ],
      "source": [
        "# collect cluster results and visualize\n",
        "with driver.session() as sesssion:\n",
        "    res = sesssion.execute_read(\n",
        "        lambda tx: tx.run(\n",
        "            \"\"\"\n",
        "            MATCH (c:Client)\n",
        "            WITH c.firstPartyFraudGroup AS fpGroupID, collect(c.id) AS fGroup\n",
        "            WITH *, size(fGroup) AS groupSize WHERE groupSize >= 9\n",
        "            WITH collect(fpGroupID) AS fraudRings\n",
        "            MATCH p=(c:Client)-[:HAS_SSN|HAS_EMAIL|HAS_PHONE]->()\n",
        "            WHERE c.firstPartyFraudGroup IN fraudRings\n",
        "            RETURN p\n",
        "            \"\"\"\n",
        "        ).data()\n",
        "    )\n",
        "    neo4j_data_print(res)\n",
        "\n"
      ]
    },
    {
      "cell_type": "markdown",
      "metadata": {
        "id": "oU8RnUU3eHW5"
      },
      "source": [
        "<div><img src=\"https://github.com/JetBelson/images/blob/main/transaction_fraud_detection_imgs/neo4j-wcc-visualizaiton.png?raw=true\" width=\"1500\"/></div>\n",
        "<div><img src=\"https://github.com/JetBelson/images/blob/main/transaction_fraud_detection_imgs/neo4j-wcc-visualizaiton-1.png?raw=true\" width=\"1500\"/></div>\n"
      ]
    },
    {
      "cell_type": "markdown",
      "metadata": {
        "id": "1GiPqLozeHW6"
      },
      "source": [
        "#### 3.2 Pairwise similarity scores for additional context"
      ]
    },
    {
      "cell_type": "markdown",
      "metadata": {
        "id": "oRrgEqJgeHW6"
      },
      "source": [
        "We have observed that some identifiers (Email/SSN/Phone Number) are connected to more than one client pointing to reuse of identifiers among clients.\n",
        "\n",
        "We hypothesize that identities that are connected to highly reused identifiers have higher potential to commit fraud.\n",
        "\n",
        "We could compute pairwise similarity scores using Jaccard metric and build additional relationships to connect clients based on shared identifiers and score these pairs based on Jaccard score."
      ]
    },
    {
      "cell_type": "code",
      "execution_count": null,
      "metadata": {
        "id": "hZQgApPLeHW6",
        "outputId": "e5913bb0-a97e-49dd-a423-490d09ce5284"
      },
      "outputs": [
        {
          "name": "stdout",
          "output_type": "stream",
          "text": [
            "\n",
            "    graphName  nodeCount  relationshipCount  projectMillis\n",
            "0  similarity       7037               1008            164\n"
          ]
        }
      ],
      "source": [
        "# project data to commeory using cypher\n",
        "with driver.session() as sesssion:\n",
        "    res = sesssion.execute_read(\n",
        "        lambda tx: tx.run(\n",
        "            \"\"\"\n",
        "            MATCH (c:Client) WHERE c.firstPartyFraudGroup is not NULL\n",
        "            WITH collect(c) as clients\n",
        "            MATCH (n) WHERE n:Email OR n:Phone OR n:SSN\n",
        "            WITH clients, collect(n) as identifiers\n",
        "            WITH clients + identifiers as nodes\n",
        "\n",
        "            MATCH (c:Client)-[:HAS_EMAIL|:HAS_PHONE|:HAS_SSN]->(id)\n",
        "            WHERE c.firstPartyFraudGroup is not NULL\n",
        "            WITH nodes, collect({source: c, target: id}) as relationships\n",
        "\n",
        "            CALL gds.graph.project.cypher('similarity',\n",
        "                \"UNWIND $nodes as n RETURN id(n) AS id,labels(n) AS labels\",\n",
        "                \"UNWIND $relationships as r RETURN id(r['source']) AS source, id(r['target']) AS target, 'HAS_IDENTIFIER' as type\",\n",
        "                { parameters: {nodes: nodes, relationships: relationships}}\n",
        "            )\n",
        "            YIELD graphName, nodeCount, relationshipCount, projectMillis\n",
        "            RETURN graphName, nodeCount, relationshipCount, projectMillis\n",
        "            \"\"\"\n",
        "        ).data()\n",
        "    )\n",
        "    neo4j_data_print(res)\n",
        "\n"
      ]
    },
    {
      "cell_type": "code",
      "execution_count": null,
      "metadata": {
        "id": "rK9f5tQ6eHW6"
      },
      "outputs": [],
      "source": [
        "# Write similarity scores to in-memory graph (Mutate)\n",
        "with driver.session() as sesssion:\n",
        "    res = sesssion.execute_write(\n",
        "        lambda tx: tx.run(\n",
        "            \"\"\"\n",
        "            CALL gds.nodeSimilarity.mutate('similarity',\n",
        "                {\n",
        "                    topK:15,\n",
        "                    mutateProperty: 'jaccardScore',\n",
        "                    mutateRelationshipType:'SIMILAR_TO'\n",
        "                }\n",
        "            )\n",
        "            \"\"\"\n",
        "        ).data()\n",
        "    )\n",
        "# Write results from in-memory graph to the Database\n",
        "with driver.session() as sesssion:\n",
        "    res = sesssion.execute_write(\n",
        "        lambda tx: tx.run(\n",
        "            \"\"\"\n",
        "            CALL gds.graph.writeRelationship('similarity', 'SIMILAR_TO', 'jaccardScore');\n",
        "            \"\"\"\n",
        "        )\n",
        "    )\n",
        "\n",
        "\n"
      ]
    },
    {
      "cell_type": "markdown",
      "metadata": {
        "id": "-y31ypPMeHW7"
      },
      "source": [
        "#### 3.3 Calculate First-party Fraud Score"
      ]
    },
    {
      "cell_type": "markdown",
      "metadata": {
        "id": "L4GilD5XeHW7"
      },
      "source": [
        "We compute first party fraud score using weighted degree centrality algorithm.\n",
        "\n",
        "In this step, we compute and assign fraud score (firstPartyFraudScore) to clients in the clusters identified in previous steps based on SIMILAR_TO relationships weighted by jaccardScore\n",
        "\n",
        "Weighted degree centrality algorithm add up similarity scores (jaccardScore) on the incoming SIMILAR_TO relationships for a given node in a cluster and assign the sum as the corresponding firstPartyFraudScore. This score represents clients who are similar to many others in the cluster in terms of sharing identifiers. Higher firstPartyFraudScore represents greater potential for committing fraud."
      ]
    },
    {
      "cell_type": "code",
      "execution_count": null,
      "metadata": {
        "id": "Eqk6rEmWeHW7"
      },
      "outputs": [],
      "source": [
        "# Write back centrality scores as firstPartyFraudScore to the database using write mode.\n",
        "\n",
        "with driver.session() as sesssion:\n",
        "    res = sesssion.execute_write(\n",
        "        lambda tx: tx.run(\n",
        "            \"\"\"\n",
        "            CALL gds.degree.write('similarity',\n",
        "                {\n",
        "                    nodeLabels: ['Client'],\n",
        "                    relationshipTypes: ['SIMILAR_TO'],\n",
        "                    relationshipWeightProperty: 'jaccardScore',\n",
        "                    writeProperty: 'firstPartyFraudScore'\n",
        "                }\n",
        "            )\n",
        "            \"\"\"\n",
        "        )\n",
        "    )\n",
        "\n"
      ]
    },
    {
      "cell_type": "markdown",
      "metadata": {
        "id": "lSb_S5_feHW7"
      },
      "source": [
        "#### 3.4 attach fraudster labels"
      ]
    },
    {
      "cell_type": "code",
      "execution_count": null,
      "metadata": {
        "id": "Ge_YtpO0eHW8"
      },
      "outputs": [],
      "source": [
        "# We find clients with first-party fraud score greater than some threshold (X) \n",
        "# and label those top X percentile clients as fraudsters. In this example, \n",
        "# using 95th percentile as a threshold, we set a property FirstPartyFraudster \n",
        "# on the Client node.\n",
        "\n",
        "\n",
        "with driver.session() as sesssion:\n",
        "    res = sesssion.execute_write(\n",
        "        lambda tx: tx.run(\n",
        "            \"\"\"\n",
        "            MATCH (c:Client)\n",
        "            WHERE c.firstPartyFraudScore IS NOT NULL\n",
        "            WITH percentileCont(c.firstPartyFraudScore, 0.95) AS firstPartyFraudThreshold\n",
        "\n",
        "            MATCH (c:Client)\n",
        "            WHERE c.firstPartyFraudScore > firstPartyFraudThreshold\n",
        "            SET c:FirstPartyFraudster\n",
        "            \"\"\"\n",
        "        )\n",
        "    )\n"
      ]
    },
    {
      "cell_type": "markdown",
      "metadata": {
        "id": "cdNWXEQ7eHW8"
      },
      "source": [
        "**visualize the FirstPartyFaudsters and their pii**\n",
        "<div><img src=\"https://github.com/JetBelson/images/blob/main/transaction_fraud_detection_imgs/neo4j-firstfraudster-pii.png?raw=true\" width=\"1500\"/></div>"
      ]
    },
    {
      "cell_type": "markdown",
      "metadata": {
        "id": "_Lmi4WQKeHW8"
      },
      "source": [
        "# Second-party Fraud (Money Mules)"
      ]
    },
    {
      "cell_type": "markdown",
      "metadata": {
        "id": "UveS5bf2eHW8"
      },
      "source": [
        "Criminals recruit money mules to help launder proceeds derived from online scams and frauds. Money mules add layers of distance between victims and fraudsters, which makes it harder for law enforcement to accurately trace money trails.\n",
        "\n",
        "In this exercise, we detect money mules in the paysim dataset. \n",
        "\n",
        "Our hypothesis is that clients who transfer money to/from first party fraudsters are suspects for second party fraud."
      ]
    },
    {
      "cell_type": "markdown",
      "metadata": {
        "id": "TYEtwF5NeHW8"
      },
      "source": [
        "#### 4.1 Transactions between first-party fraudsters and client"
      ]
    },
    {
      "cell_type": "code",
      "execution_count": null,
      "metadata": {
        "id": "1fGBH-bOeHW8"
      },
      "outputs": [],
      "source": [
        "# The first step is to find out clients who weren’t identified as first party \n",
        "# fraudsters but they transact with first party fraudsters\n",
        "\n",
        "with driver.session() as sesssion:\n",
        "    res = sesssion.execute_write(\n",
        "        lambda tx: tx.run(\n",
        "            \"\"\"\n",
        "            MATCH p=(:Client:FirstPartyFraudster)-[]-(:Transaction)-[]-(c:Client)\n",
        "            WHERE NOT c:FirstPartyFraudster\n",
        "            RETURN p\n",
        "            \"\"\"\n",
        "        )\n",
        "    )\n"
      ]
    },
    {
      "cell_type": "markdown",
      "metadata": {
        "id": "W4tm1JJ5eHW9"
      },
      "source": [
        "**visualize the FirstPartyFaudsters and their transaction networks**\n",
        "<div><img src=\"https://github.com/JetBelson/images/blob/main/transaction_fraud_detection_imgs/neo4j-firstfraudster-transaction-networks.png?raw=true width=\"1500\"/></div>\n",
        "<div><img src=\"https://github.com/JetBelson/images/blob/main/transaction_fraud_detection_imgs/neo4j-firstfraudster-transaction-networks-1.png?raw=true width=\"1500\"/></div>"
      ]
    },
    {
      "cell_type": "code",
      "execution_count": null,
      "metadata": {
        "id": "SBgcu6FjeHW9",
        "outputId": "14c6f220-96ab-4821-c3dc-58beca49357d"
      },
      "outputs": [
        {
          "name": "stdout",
          "output_type": "stream",
          "text": [
            "\n",
            "  transactionType  freq\n",
            "0        Transfer    89\n",
            "1     Transaction    89\n"
          ]
        }
      ],
      "source": [
        "# Also, lets find out what types of transactions do these Clients perform with first party fraudsters\n",
        "\n",
        "with driver.session() as sesssion:\n",
        "    res = sesssion.execute_write(\n",
        "        lambda tx: tx.run(\n",
        "            \"\"\"\n",
        "            MATCH (:Client:FirstPartyFraudster)-[]-(txn:Transaction)-[]-(c:Client)\n",
        "            WHERE NOT c:FirstPartyFraudster\n",
        "            UNWIND labels(txn) AS transactionType\n",
        "            RETURN transactionType, count(*) AS freq;\n",
        "            \"\"\"\n",
        "        ).data()\n",
        "    )\n",
        "    neo4j_data_print(res)\n"
      ]
    },
    {
      "cell_type": "markdown",
      "metadata": {
        "id": "z9C_Wq98eHW9"
      },
      "source": [
        "#### 4.2 Create new relationships\n"
      ]
    },
    {
      "cell_type": "markdown",
      "metadata": {
        "id": "YU_8uWEzeHW9"
      },
      "source": [
        "Let’s go ahead and create TRANSFER_TO relationships between clients with firstPartyFraudster tags and other clients. Also add the total amount from all such transactions as a property on TRANSFER_TO relationships.\n",
        "\n",
        "Since the total amount transferred from a fraudster to a client and the total amount transferred in the reverse direction are not the same, we have to create relationships in two separate queries.\n",
        "\n",
        "\n"
      ]
    },
    {
      "cell_type": "code",
      "execution_count": null,
      "metadata": {
        "id": "fWQpmicheHW9"
      },
      "outputs": [],
      "source": [
        "# Create TRANSFER_TO relationship from a fraudster to a client\n",
        "with driver.session() as sesssion:\n",
        "    res = sesssion.execute_write(\n",
        "        lambda tx: tx.run(\n",
        "            \"\"\"\n",
        "            MATCH (c1:FirstPartyFraudster)-[]->(t:Transaction)-[]->(c2:Client)\n",
        "            WHERE NOT c2:FirstPartyFraudster\n",
        "            WITH c1, c2, sum(t.amount) AS totalAmount\n",
        "            SET c2:SecondPartyFraudSuspect\n",
        "            CREATE (c1)-[:TRANSFER_TO {amount:totalAmount}]->(c2);\n",
        "            \"\"\"\n",
        "        )\n",
        "    )\n",
        "\n",
        "\n",
        "# Create TRANSFER_TO relationship from a client to a client from a fraudster\n",
        "with driver.session() as sesssion:\n",
        "    res = sesssion.execute_write(\n",
        "        lambda tx: tx.run(\n",
        "            \"\"\"\n",
        "            MATCH (c1:FirstPartyFraudster)<-[]-(t:Transaction)<-[]-(c2:Client)\n",
        "            WHERE NOT c2:FirstPartyFraudster\n",
        "            WITH c1, c2, sum(t.amount) AS totalAmount\n",
        "            SET c2:SecondPartyFraudSuspect\n",
        "            CREATE (c1)<-[:TRANSFER_TO {amount:totalAmount}]-(c2);\n",
        "            \"\"\"\n",
        "        )\n",
        "    )\n"
      ]
    },
    {
      "cell_type": "code",
      "execution_count": null,
      "metadata": {
        "id": "sLlJnFGIeHW-"
      },
      "outputs": [],
      "source": [
        "# visiualize the new relationships\n",
        "with driver.session() as sesssion:\n",
        "    res = sesssion.execute_read(\n",
        "        lambda tx: tx.run(\n",
        "            \"\"\"\n",
        "        MATCH p=(:Client:FirstPartyFraudster)-[:TRANSFER_TO]-(c:Client)\n",
        "        WHERE NOT c:FirstPartyFraudster\n",
        "        RETURN p;\n",
        "            \"\"\"\n",
        "        )\n",
        "    )\n"
      ]
    },
    {
      "cell_type": "markdown",
      "metadata": {
        "id": "pA8IrimaeHW-"
      },
      "source": [
        "<div><img src=\"https://github.com/JetBelson/images/blob/main/transaction_fraud_detection_imgs/neo4j-firstfraudster-SecondPartySuspect.png?raw=true width=\"1500\"/></div>"
      ]
    },
    {
      "cell_type": "markdown",
      "metadata": {
        "id": "fbjf7xAieHW-"
      },
      "source": [
        "#### 4.3 Second-party Fraud\n"
      ]
    },
    {
      "cell_type": "markdown",
      "metadata": {
        "id": "7qfe1F4BeHW-"
      },
      "source": [
        "Our objective is to find out clients who may have supported the first party fraudsters and were not identified as potential first party fraudsters.\n",
        "\n",
        "Our hypothesis is that clients who perform transactions of type Transfer where they either send or receive money from first party fraudsters are flagged as suspects for second party fraud.\n",
        "\n",
        "To identify such clients, make use of TRANSFER_TO relationships and use this recipe:\n",
        "\n",
        "* Use WCC (community detection) to identify networks of clients who are connected to first party fraudsters\n",
        "\n",
        "* Use PageRank (centrality) to score clients based on their influence in terms of the amount of money transferred to/from fraudsters\n",
        "\n",
        "* Assign risk score (secondPartyFraudScore) to these clients"
      ]
    },
    {
      "cell_type": "code",
      "execution_count": null,
      "metadata": {
        "id": "4U4St3mMeHW-"
      },
      "outputs": [],
      "source": [
        "# Let’s use native projection and create an in-memory graph with Client nodes \n",
        "# and TRANSFER_TO relationships.\n",
        "with driver.session() as sesssion:\n",
        "    res = sesssion.execute_read(\n",
        "        lambda tx: tx.run(\n",
        "            \"\"\"\n",
        "            CALL gds.graph.project('SecondPartyFraudNetwork',\n",
        "                'Client',\n",
        "                'TRANSFER_TO',\n",
        "                {relationshipProperties:'amount'}\n",
        "            );\n",
        "            \"\"\"\n",
        "        )\n",
        "    )"
      ]
    },
    {
      "cell_type": "code",
      "execution_count": null,
      "metadata": {
        "id": "cxQSUmiseHW-"
      },
      "outputs": [],
      "source": [
        "# We will see if there are any clusters with more than one clients in them and \n",
        "# if there are, then we should add a tag secondPartyFraudGroup to find them \n",
        "# later using local queries.\n",
        "\n",
        "with driver.session() as sesssion:\n",
        "    res = sesssion.execute_write(\n",
        "        lambda tx: tx.run(\n",
        "            \"\"\"\n",
        "            CALL gds.wcc.stream('SecondPartyFraudNetwork')\n",
        "            YIELD nodeId, componentId\n",
        "            WITH gds.util.asNode(nodeId) AS client, componentId AS clusterId\n",
        "            WITH clusterId, collect(client.id) AS cluster\n",
        "            WITH clusterId, size(cluster) AS clusterSize, cluster\n",
        "            WHERE clusterSize > 1\n",
        "            UNWIND cluster AS client\n",
        "            MATCH(c:Client {id:client})\n",
        "            SET c.secondPartyFraudGroup=clusterId;\n",
        "            \"\"\"\n",
        "        )\n",
        "    )\n"
      ]
    },
    {
      "cell_type": "code",
      "execution_count": null,
      "metadata": {
        "id": "KHfMQmAPeHW_"
      },
      "outputs": [],
      "source": [
        "# Use pagerank to find out who among the suspects have relatively higher fraud\n",
        "# scores. Please note that relationships are weighted by the total amount \n",
        "# transferred to fraudsters.\n",
        "\n",
        "with driver.session() as sesssion:\n",
        "    res = sesssion.execute_write(\n",
        "        lambda tx: tx.run(\n",
        "            \"\"\"\n",
        "            CALL gds.pageRank.stream('SecondPartyFraudNetwork',\n",
        "                {relationshipWeightProperty:'amount'}\n",
        "            )YIELD nodeId, score\n",
        "            WITH gds.util.asNode(nodeId) AS client, score AS pageRankScore\n",
        "\n",
        "            WHERE client.secondPartyFraudGroup IS NOT NULL\n",
        "                    AND pageRankScore > 0 AND NOT client:FirstPartyFraudster\n",
        "\n",
        "            MATCH(c:Client {id:client.id})\n",
        "            SET c:SecondPartyFraud\n",
        "            SET c.secondPartyFraudScore = pageRankScore;\n",
        "            \"\"\"\n",
        "        )\n",
        "    )\n",
        "\n",
        "\n",
        "\n",
        "\n"
      ]
    },
    {
      "cell_type": "code",
      "execution_count": null,
      "metadata": {
        "id": "CvqYftRSeHW_"
      },
      "outputs": [],
      "source": [
        "# Visualize second party fraud networks\n",
        "\n",
        "with driver.session() as sesssion:\n",
        "    res = sesssion.execute_write(\n",
        "        lambda tx: tx.run(\n",
        "            \"\"\"\n",
        "            MATCH p=(:Client:FirstPartyFraudster)-[:TRANSFER_TO]-(c:Client)\n",
        "            WHERE NOT c:FirstPartyFraudster\n",
        "            RETURN p;\n",
        "            \"\"\"\n",
        "        )\n",
        "    )"
      ]
    },
    {
      "cell_type": "markdown",
      "metadata": {
        "id": "BYV_Ey4beHW_"
      },
      "source": [
        "<div><img src=\"https://github.com/JetBelson/images/blob/main/transaction_fraud_detection_imgs/neo4j-firstfraudster-SecondPartyFaud-Suspect.png?raw=true width=\"1500\"/></div>\n",
        "<div><img src=\"https://github.com/JetBelson/images/blob/main/transaction_fraud_detection_imgs/neo4j-firstfraudster-SecondPartyFaud-Suspect-1.png?raw=true width=\"1500\"/></div>\n"
      ]
    },
    {
      "cell_type": "markdown",
      "metadata": {
        "id": "PLgXzuvBeHW_"
      },
      "source": [
        "  \n",
        "  \n",
        "**New Schema After Processing**\n",
        "<div><img src=\"https://github.com/JetBelson/images/blob/main/transaction_fraud_detection_imgs/neo4j-schema-visualizaiton-2.png?raw=true width=\"1500\"/></div>\n"
      ]
    },
    {
      "cell_type": "code",
      "execution_count": null,
      "metadata": {
        "id": "jHkk4tALeHW_"
      },
      "outputs": [],
      "source": [
        "# clean up graphs in memory\n",
        "with driver.session() as sesssion:\n",
        "    res = sesssion.execute_write(\n",
        "        lambda tx: tx.run(\n",
        "            \"\"\"\n",
        "    CALL gds.graph.list()\n",
        "    YIELD graphName AS namedGraph\n",
        "    WITH namedGraph\n",
        "    CALL gds.graph.drop(namedGraph)\n",
        "    YIELD graphName\n",
        "    RETURN graphName;\n",
        "            \"\"\"\n",
        "        )\n",
        "    )\n"
      ]
    }
  ],
  "metadata": {
    "kernelspec": {
      "display_name": "Python 3.10.0 ('neo4j')",
      "language": "python",
      "name": "python3"
    },
    "language_info": {
      "codemirror_mode": {
        "name": "ipython",
        "version": 3
      },
      "file_extension": ".py",
      "mimetype": "text/x-python",
      "name": "python",
      "nbconvert_exporter": "python",
      "pygments_lexer": "ipython3",
      "version": "3.10.0"
    },
    "orig_nbformat": 4,
    "vscode": {
      "interpreter": {
        "hash": "a412eee91da4822467dfa7bd70ca0284745870d503ce8d1ec4d86be1a8587130"
      }
    },
    "colab": {
      "provenance": [],
      "include_colab_link": true
    }
  },
  "nbformat": 4,
  "nbformat_minor": 0
}